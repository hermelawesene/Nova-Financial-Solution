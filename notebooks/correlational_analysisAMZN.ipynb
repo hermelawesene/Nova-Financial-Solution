{
 "cells": [
  {
   "cell_type": "code",
   "execution_count": 1,
   "metadata": {},
   "outputs": [],
   "source": [
    "import yfinance as yf\n",
    "import pandas as pd\n",
    "import numpy as np\n",
    "#from textblob import TextBlob"
   ]
  },
  {
   "cell_type": "code",
   "execution_count": 2,
   "metadata": {},
   "outputs": [],
   "source": [
    "# Load the existing stock data\n",
    "dataAMZN = pd.read_csv('../data/AMZN_historical_data.csv', index_col='Date', parse_dates=True)"
   ]
  },
  {
   "cell_type": "code",
   "execution_count": 3,
   "metadata": {},
   "outputs": [],
   "source": [
    "# Load the exosting news data\n",
    "news_data = pd.read_csv('../data/raw_analyst_ratings.csv', parse_dates=['date'])\n"
   ]
  },
  {
   "cell_type": "code",
   "execution_count": 4,
   "metadata": {},
   "outputs": [],
   "source": [
    "# Convert to datetime and adjust to UTC\n",
    "news_data['date'] = pd.to_datetime(news_data['date'], utc=True, format='mixed')\n",
    "dataAMZN.index = pd.to_datetime(dataAMZN.index, utc=True)\n",
    "\n",
    "\n",
    "# Extract just the date part\n",
    "news_data['date'] = news_data['date'].dt.date\n",
    "# To extract the date index\n",
    "dates = dataAMZN.index\n",
    "dataAMZN = dataAMZN.reset_index()\n",
    "\n",
    "dataAMZN['Date'] = dataAMZN['Date'].dt.date\n",
    "\n",
    "# Calculate daily percentage changes\n",
    "dataAMZN['Daily_Return'] = dataAMZN['Close'].pct_change() * 100  # Multiply by 100 to get percentage\n",
    "\n",
    "\n",
    "# Merge on the date\n",
    "merged_data = pd.merge(news_data, dataAMZN, left_on='date', right_on='Date', how='left')\n",
    "\n",
    "# Handle non-trading days by filling missing stock data with the closest trading day\n",
    "merged_data = merged_data.ffill()  # Forward fill\n"
   ]
  },
  {
   "cell_type": "code",
   "execution_count": 5,
   "metadata": {},
   "outputs": [
    {
     "name": "stdout",
     "output_type": "stream",
     "text": [
      "\n",
      "Merged Data:\n",
      "   Unnamed: 0                                           headline  \\\n",
      "0           0            Stocks That Hit 52-Week Highs On Friday   \n",
      "1           1         Stocks That Hit 52-Week Highs On Wednesday   \n",
      "2           2                      71 Biggest Movers From Friday   \n",
      "3           3       46 Stocks Moving In Friday's Mid-Day Session   \n",
      "4           4  B of A Securities Maintains Neutral on Agilent...   \n",
      "\n",
      "                                                 url          publisher  \\\n",
      "0  https://www.benzinga.com/news/20/06/16190091/s...  Benzinga Insights   \n",
      "1  https://www.benzinga.com/news/20/06/16170189/s...  Benzinga Insights   \n",
      "2  https://www.benzinga.com/news/20/05/16103463/7...         Lisa Levin   \n",
      "3  https://www.benzinga.com/news/20/05/16095921/4...         Lisa Levin   \n",
      "4  https://www.benzinga.com/news/20/05/16095304/b...         Vick Meyer   \n",
      "\n",
      "         date stock        Date        Open        High         Low  \\\n",
      "0  2020-06-05     A  2020-06-05  122.225502  124.432503  121.856499   \n",
      "1  2020-06-03     A  2020-06-03  123.400497  124.400002  123.058502   \n",
      "2  2020-05-26     A  2020-05-26  122.900002  123.099998  120.703003   \n",
      "3  2020-05-22     A  2020-05-22  122.750504  123.492500  121.506500   \n",
      "4  2020-05-22     A  2020-05-22  122.750504  123.492500  121.506500   \n",
      "\n",
      "        Close   Adj Close      Volume  Dividends  Stock Splits  Daily_Return  \n",
      "0  124.150002  124.150002  66128000.0        0.0           0.0      0.910349  \n",
      "1  123.919998  123.919998  53420000.0        0.0           0.0      0.242273  \n",
      "2  121.093002  121.093002  71364000.0        0.0           0.0     -0.616361  \n",
      "3  121.844002  121.844002  57342000.0        0.0           0.0     -0.402982  \n",
      "4  121.844002  121.844002  57342000.0        0.0           0.0     -0.402982  \n",
      "Date range in merged data:\n",
      "2009-02-14 2020-06-11\n"
     ]
    }
   ],
   "source": [
    "print(\"\\nMerged Data:\")\n",
    "print(merged_data.head())\n",
    "print(\"Date range in merged data:\")\n",
    "print(merged_data['date'].min(), merged_data['date'].max())"
   ]
  },
  {
   "cell_type": "code",
   "execution_count": 6,
   "metadata": {},
   "outputs": [
    {
     "name": "stderr",
     "output_type": "stream",
     "text": [
      "[nltk_data] Downloading package vader_lexicon to\n",
      "[nltk_data]     C:\\Users\\HP\\AppData\\Roaming\\nltk_data...\n",
      "[nltk_data]   Package vader_lexicon is already up-to-date!\n"
     ]
    },
    {
     "data": {
      "text/plain": [
       "True"
      ]
     },
     "execution_count": 6,
     "metadata": {},
     "output_type": "execute_result"
    }
   ],
   "source": [
    "import nltk\n",
    "nltk.download('vader_lexicon')"
   ]
  },
  {
   "cell_type": "code",
   "execution_count": 7,
   "metadata": {},
   "outputs": [],
   "source": [
    "from nltk.sentiment import SentimentIntensityAnalyzer\n",
    "\n",
    "# Initialize the VADER sentiment analyzer\n",
    "analyzer = SentimentIntensityAnalyzer()\n"
   ]
  },
  {
   "cell_type": "code",
   "execution_count": 8,
   "metadata": {},
   "outputs": [
    {
     "name": "stdout",
     "output_type": "stream",
     "text": [
      "Merged Data with Sentiment Scores:\n",
      "         Unnamed: 0                                           headline  \\\n",
      "0                 0            Stocks That Hit 52-Week Highs On Friday   \n",
      "1                 1         Stocks That Hit 52-Week Highs On Wednesday   \n",
      "2                 2                      71 Biggest Movers From Friday   \n",
      "3                 3       46 Stocks Moving In Friday's Mid-Day Session   \n",
      "4                 4  B of A Securities Maintains Neutral on Agilent...   \n",
      "...             ...                                                ...   \n",
      "1407323     1413844             Top Narrow Based Indexes For August 29   \n",
      "1407324     1413845  Recap: Wednesday's Top Percentage Gainers and ...   \n",
      "1407325     1413846  UPDATE: Oppenheimer Color on China Zenix Auto ...   \n",
      "1407326     1413847  Oppenheimer Initiates China Zenix At Outperfor...   \n",
      "1407327     1413848  China Zenix Auto International Opens For Tradi...   \n",
      "\n",
      "                                                       url          publisher  \\\n",
      "0        https://www.benzinga.com/news/20/06/16190091/s...  Benzinga Insights   \n",
      "1        https://www.benzinga.com/news/20/06/16170189/s...  Benzinga Insights   \n",
      "2        https://www.benzinga.com/news/20/05/16103463/7...         Lisa Levin   \n",
      "3        https://www.benzinga.com/news/20/05/16095921/4...         Lisa Levin   \n",
      "4        https://www.benzinga.com/news/20/05/16095304/b...         Vick Meyer   \n",
      "...                                                    ...                ...   \n",
      "1407323  https://www.benzinga.com/news/11/08/1888782/to...      Monica Gerson   \n",
      "1407324  https://www.benzinga.com/news/earnings/11/06/1...       Benjamin Lee   \n",
      "1407325  https://www.benzinga.com/analyst-ratings/analy...     BenzingaStaffL   \n",
      "1407326  https://www.benzinga.com/analyst-ratings/price...          Joe Young   \n",
      "1407327  https://www.benzinga.com/news/ipos/11/05/10789...      Allie Wickman   \n",
      "\n",
      "               date stock        Date        Open        High         Low  \\\n",
      "0        2020-06-05     A  2020-06-05  122.225502  124.432503  121.856499   \n",
      "1        2020-06-03     A  2020-06-03  123.400497  124.400002  123.058502   \n",
      "2        2020-05-26     A  2020-05-26  122.900002  123.099998  120.703003   \n",
      "3        2020-05-22     A  2020-05-22  122.750504  123.492500  121.506500   \n",
      "4        2020-05-22     A  2020-05-22  122.750504  123.492500  121.506500   \n",
      "...             ...   ...         ...         ...         ...         ...   \n",
      "1407323  2011-08-29    ZX  2011-08-29   10.141000   10.333500   10.127500   \n",
      "1407324  2011-06-22    ZX  2011-06-22    9.698000    9.760000    9.566000   \n",
      "1407325  2011-06-21    ZX  2011-06-21    9.415000    9.750000    9.356000   \n",
      "1407326  2011-06-21    ZX  2011-06-21    9.415000    9.750000    9.356000   \n",
      "1407327  2011-05-12    ZX  2011-05-12   10.211000   10.309500   10.031000   \n",
      "\n",
      "              Close   Adj Close      Volume  Dividends  Stock Splits  \\\n",
      "0        124.150002  124.150002  66128000.0        0.0           0.0   \n",
      "1        123.919998  123.919998  53420000.0        0.0           0.0   \n",
      "2        121.093002  121.093002  71364000.0        0.0           0.0   \n",
      "3        121.844002  121.844002  57342000.0        0.0           0.0   \n",
      "4        121.844002  121.844002  57342000.0        0.0           0.0   \n",
      "...             ...         ...         ...        ...           ...   \n",
      "1407323   10.326500   10.326500  90220000.0        0.0           0.0   \n",
      "1407324    9.581500    9.581500  62594000.0        0.0           0.0   \n",
      "1407325    9.711500    9.711500  83652000.0        0.0           0.0   \n",
      "1407326    9.711500    9.711500  83652000.0        0.0           0.0   \n",
      "1407327   10.303500   10.303500  96000000.0        0.0           0.0   \n",
      "\n",
      "         Daily_Return  sentiment_score  \n",
      "0            0.910349           0.0000  \n",
      "1            0.242273           0.0000  \n",
      "2           -0.616361           0.0000  \n",
      "3           -0.402982           0.0000  \n",
      "4           -0.402982           0.2960  \n",
      "...               ...              ...  \n",
      "1407323      3.643297           0.2023  \n",
      "1407324     -1.338620          -0.3818  \n",
      "1407325      3.467936           0.0000  \n",
      "1407326      3.467936           0.0000  \n",
      "1407327      0.826894           0.0000  \n",
      "\n",
      "[1407328 rows x 17 columns]\n"
     ]
    }
   ],
   "source": [
    "# Perform sentiment analysis on headlines\n",
    "def get_sentiment_score(text):\n",
    "    sentiment = analyzer.polarity_scores(text)\n",
    "    return sentiment['compound']  # Compound score\n",
    "\n",
    "# Apply sentiment analysis\n",
    "merged_data['sentiment_score'] = merged_data['headline'].apply(get_sentiment_score)\n",
    "\n",
    "# Display the merged DataFrame with sentiment scores\n",
    "print(\"Merged Data with Sentiment Scores:\")\n",
    "print(merged_data)"
   ]
  },
  {
   "cell_type": "code",
   "execution_count": 9,
   "metadata": {},
   "outputs": [
    {
     "name": "stdout",
     "output_type": "stream",
     "text": [
      "            date  sentiment_score\n",
      "0     2009-02-14         0.226300\n",
      "1     2009-04-27         0.000000\n",
      "2     2009-04-29         0.000000\n",
      "3     2009-05-22         0.000000\n",
      "4     2009-05-27         0.751050\n",
      "...          ...              ...\n",
      "3950  2020-06-07         0.040156\n",
      "3951  2020-06-08         0.250061\n",
      "3952  2020-06-09         0.283393\n",
      "3953  2020-06-10         0.044021\n",
      "3954  2020-06-11         0.122841\n",
      "\n",
      "[3955 rows x 2 columns]\n",
      "2009-02-14 2020-06-11\n"
     ]
    }
   ],
   "source": [
    "# Aggregate sentiment scores by date (compute the average)\n",
    "daily_sentiments = merged_data.groupby('date')['sentiment_score'].mean().reset_index()\n",
    "\n",
    "# Display the daily sentiment scores\n",
    "print(daily_sentiments)\n",
    "print(daily_sentiments['date'].min(), daily_sentiments['date'].max())"
   ]
  },
  {
   "cell_type": "code",
   "execution_count": 10,
   "metadata": {},
   "outputs": [],
   "source": [
    "# Ensure stock data contains 'Date' and 'Daily_Return' columns\n",
    "dataAMZN = dataAMZN.rename(columns={'Date': 'date'})\n",
    "dataAMZN = dataAMZN[['date', 'Daily_Return']]  # Ensure only relevant columns are included"
   ]
  },
  {
   "cell_type": "code",
   "execution_count": 11,
   "metadata": {},
   "outputs": [],
   "source": [
    "# Merge aggregated sentiment scores with stock data\n",
    "merged_data = pd.merge(daily_sentiments, dataAMZN, on='date', how='left')"
   ]
  },
  {
   "cell_type": "code",
   "execution_count": 12,
   "metadata": {},
   "outputs": [],
   "source": [
    "# Compute correlation between sentiment scores and daily returns\n",
    "correlation = merged_data[['sentiment_score', 'Daily_Return']].corr().iloc[0, 1]"
   ]
  },
  {
   "cell_type": "code",
   "execution_count": 13,
   "metadata": {},
   "outputs": [
    {
     "name": "stdout",
     "output_type": "stream",
     "text": [
      "Merged Data with Aggregated Sentiments and Daily Returns:\n",
      "            date  sentiment_score  Daily_Return\n",
      "0     2009-02-14         0.226300           NaN\n",
      "1     2009-04-27         0.000000     -1.586548\n",
      "2     2009-04-29         0.000000     -3.167472\n",
      "3     2009-05-22         0.000000     -0.421275\n",
      "4     2009-05-27         0.751050     -1.645620\n",
      "...          ...              ...           ...\n",
      "3950  2020-06-07         0.040156           NaN\n",
      "3951  2020-06-08         0.250061      1.653646\n",
      "3952  2020-06-09         0.283393      3.042714\n",
      "3953  2020-06-10         0.044021      1.791329\n",
      "3954  2020-06-11         0.122841     -3.380230\n",
      "\n",
      "[3955 rows x 3 columns]\n",
      "\n",
      "Correlation between Sentiment Scores and Daily Returns: 0.08\n"
     ]
    }
   ],
   "source": [
    "# Display results\n",
    "print(\"Merged Data with Aggregated Sentiments and Daily Returns:\")\n",
    "print(merged_data)\n",
    "print(f\"\\nCorrelation between Sentiment Scores and Daily Returns: {correlation:.2f}\")"
   ]
  },
  {
   "cell_type": "code",
   "execution_count": 14,
   "metadata": {},
   "outputs": [
    {
     "data": {
      "text/html": [
       "<div>\n",
       "<style scoped>\n",
       "    .dataframe tbody tr th:only-of-type {\n",
       "        vertical-align: middle;\n",
       "    }\n",
       "\n",
       "    .dataframe tbody tr th {\n",
       "        vertical-align: top;\n",
       "    }\n",
       "\n",
       "    .dataframe thead th {\n",
       "        text-align: right;\n",
       "    }\n",
       "</style>\n",
       "<table border=\"1\" class=\"dataframe\">\n",
       "  <thead>\n",
       "    <tr style=\"text-align: right;\">\n",
       "      <th></th>\n",
       "      <th>date</th>\n",
       "      <th>Daily_Return</th>\n",
       "    </tr>\n",
       "  </thead>\n",
       "  <tbody>\n",
       "    <tr>\n",
       "      <th>0</th>\n",
       "      <td>1997-05-15</td>\n",
       "      <td>NaN</td>\n",
       "    </tr>\n",
       "    <tr>\n",
       "      <th>1</th>\n",
       "      <td>1997-05-16</td>\n",
       "      <td>-11.702769</td>\n",
       "    </tr>\n",
       "    <tr>\n",
       "      <th>2</th>\n",
       "      <td>1997-05-19</td>\n",
       "      <td>-1.204047</td>\n",
       "    </tr>\n",
       "    <tr>\n",
       "      <th>3</th>\n",
       "      <td>1997-05-20</td>\n",
       "      <td>-4.268472</td>\n",
       "    </tr>\n",
       "    <tr>\n",
       "      <th>4</th>\n",
       "      <td>1997-05-21</td>\n",
       "      <td>-12.739234</td>\n",
       "    </tr>\n",
       "  </tbody>\n",
       "</table>\n",
       "</div>"
      ],
      "text/plain": [
       "         date  Daily_Return\n",
       "0  1997-05-15           NaN\n",
       "1  1997-05-16    -11.702769\n",
       "2  1997-05-19     -1.204047\n",
       "3  1997-05-20     -4.268472\n",
       "4  1997-05-21    -12.739234"
      ]
     },
     "execution_count": 14,
     "metadata": {},
     "output_type": "execute_result"
    }
   ],
   "source": [
    "# Reset the index to make 'Date' a column and rename it to 'date'\n",
    "daily_returns = dataAMZN.reset_index()[['date', 'Daily_Return']]\n",
    "daily_returns.head()"
   ]
  },
  {
   "cell_type": "code",
   "execution_count": 15,
   "metadata": {},
   "outputs": [
    {
     "name": "stdout",
     "output_type": "stream",
     "text": [
      "Pearson correlation coefficient between average daily sentiment scores and stock daily returns: 0.08223958354879733\n"
     ]
    }
   ],
   "source": [
    "#Merge sentiment scores with stock returns\n",
    "merged_data = pd.merge(daily_sentiments, daily_returns, on='date', how='inner')\n",
    "\n",
    "# Calculate the Pearson correlation coefficient\n",
    "correlation = merged_data[['sentiment_score', 'Daily_Return']].corr().iloc[0, 1]\n",
    "print(\"Pearson correlation coefficient between average daily sentiment scores and stock daily returns:\", correlation)"
   ]
  }
 ],
 "metadata": {
  "kernelspec": {
   "display_name": ".venv",
   "language": "python",
   "name": "python3"
  },
  "language_info": {
   "codemirror_mode": {
    "name": "ipython",
    "version": 3
   },
   "file_extension": ".py",
   "mimetype": "text/x-python",
   "name": "python",
   "nbconvert_exporter": "python",
   "pygments_lexer": "ipython3",
   "version": "3.12.5"
  }
 },
 "nbformat": 4,
 "nbformat_minor": 2
}
