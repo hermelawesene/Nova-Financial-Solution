{
 "cells": [
  {
   "cell_type": "code",
   "execution_count": 1,
   "metadata": {},
   "outputs": [],
   "source": [
    "import yfinance as yf\n",
    "import pandas as pd\n",
    "import numpy as np\n",
    "#from textblob import TextBlob"
   ]
  },
  {
   "cell_type": "code",
   "execution_count": 2,
   "metadata": {},
   "outputs": [],
   "source": [
    "# Load the existing stock data\n",
    "dataAAPL = pd.read_csv('../data/AAPL_historical_data.csv', index_col='Date', parse_dates=True)\n",
    "dataAMZN = pd.read_csv('../data/AMZN_historical_data.csv', index_col='Date', parse_dates=True)\n",
    "dataGOOG = pd.read_csv('../data/GOOG_historical_data.csv', index_col='Date', parse_dates=True)\n",
    "dataMETA = pd.read_csv('../data/META_historical_data.csv', index_col='Date', parse_dates=True)\n",
    "dataMSFT = pd.read_csv('../data/MSFT_historical_data.csv', index_col='Date', parse_dates=True)\n",
    "dataNVDA = pd.read_csv('../data/NVDA_historical_data.csv', index_col='Date', parse_dates=True)\n",
    "dataTSLA = pd.read_csv('../data/TSLA_historical_data.csv', index_col='Date', parse_dates=True)"
   ]
  },
  {
   "cell_type": "code",
   "execution_count": 3,
   "metadata": {},
   "outputs": [],
   "source": [
    "# Load the exosting news data\n",
    "news_data = pd.read_csv('../data/raw_analyst_ratings.csv')"
   ]
  },
  {
   "cell_type": "code",
   "execution_count": 8,
   "metadata": {},
   "outputs": [],
   "source": [
    "import pandas as pd\n",
    "\n",
    "# Convert to datetime and adjust to UTC\n",
    "news_data['date'] = pd.to_datetime(news_data['date'], utc=True, format='mixed')\n",
    "dataAAPL.index = pd.to_datetime(dataAAPL.index, utc=True)\n",
    "\n",
    "\n",
    "# Extract just the date part\n",
    "news_data['date'] = news_data['date'].dt.date\n",
    "# To extract the date index\n",
    "dates = dataAAPL.index\n",
    "dataAAPL = dataAAPL.reset_index()\n",
    "\n",
    "dataAAPL['Date'] = dataAAPL['Date'].dt.date\n",
    "\n",
    "# Merge on the date\n",
    "merged_data = pd.merge(news_data, dataAAPL, left_on='date', right_on='Date', how='left')\n",
    "\n",
    "# Handle non-trading days by filling missing stock data with the closest trading day\n",
    "merged_data = merged_data.ffill()  # Forward fill\n"
   ]
  },
  {
   "cell_type": "code",
   "execution_count": 9,
   "metadata": {},
   "outputs": [
    {
     "name": "stdout",
     "output_type": "stream",
     "text": [
      "news_data:\n",
      "   Unnamed: 0                                           headline  \\\n",
      "0           0            Stocks That Hit 52-Week Highs On Friday   \n",
      "1           1         Stocks That Hit 52-Week Highs On Wednesday   \n",
      "2           2                      71 Biggest Movers From Friday   \n",
      "3           3       46 Stocks Moving In Friday's Mid-Day Session   \n",
      "4           4  B of A Securities Maintains Neutral on Agilent...   \n",
      "\n",
      "                                                 url          publisher  \\\n",
      "0  https://www.benzinga.com/news/20/06/16190091/s...  Benzinga Insights   \n",
      "1  https://www.benzinga.com/news/20/06/16170189/s...  Benzinga Insights   \n",
      "2  https://www.benzinga.com/news/20/05/16103463/7...         Lisa Levin   \n",
      "3  https://www.benzinga.com/news/20/05/16095921/4...         Lisa Levin   \n",
      "4  https://www.benzinga.com/news/20/05/16095304/b...         Vick Meyer   \n",
      "\n",
      "         date stock  \n",
      "0  2020-06-05     A  \n",
      "1  2020-06-03     A  \n",
      "2  2020-05-26     A  \n",
      "3  2020-05-22     A  \n",
      "4  2020-05-22     A  \n",
      "\n",
      "dataAAPL_reset:\n",
      "         Date      Open      High       Low     Close  Adj Close     Volume  \\\n",
      "0  1980-12-12  0.128348  0.128906  0.128348  0.128348   0.098943  469033600   \n",
      "1  1980-12-15  0.122210  0.122210  0.121652  0.121652   0.093781  175884800   \n",
      "2  1980-12-16  0.113281  0.113281  0.112723  0.112723   0.086898  105728000   \n",
      "3  1980-12-17  0.115513  0.116071  0.115513  0.115513   0.089049   86441600   \n",
      "4  1980-12-18  0.118862  0.119420  0.118862  0.118862   0.091630   73449600   \n",
      "\n",
      "   Dividends  Stock Splits  \n",
      "0        0.0           0.0  \n",
      "1        0.0           0.0  \n",
      "2        0.0           0.0  \n",
      "3        0.0           0.0  \n",
      "4        0.0           0.0  \n",
      "\n",
      "Merged Data:\n",
      "   Unnamed: 0                                           headline  \\\n",
      "0           0            Stocks That Hit 52-Week Highs On Friday   \n",
      "1           1         Stocks That Hit 52-Week Highs On Wednesday   \n",
      "2           2                      71 Biggest Movers From Friday   \n",
      "3           3       46 Stocks Moving In Friday's Mid-Day Session   \n",
      "4           4  B of A Securities Maintains Neutral on Agilent...   \n",
      "\n",
      "                                                 url          publisher  \\\n",
      "0  https://www.benzinga.com/news/20/06/16190091/s...  Benzinga Insights   \n",
      "1  https://www.benzinga.com/news/20/06/16170189/s...  Benzinga Insights   \n",
      "2  https://www.benzinga.com/news/20/05/16103463/7...         Lisa Levin   \n",
      "3  https://www.benzinga.com/news/20/05/16095921/4...         Lisa Levin   \n",
      "4  https://www.benzinga.com/news/20/05/16095304/b...         Vick Meyer   \n",
      "\n",
      "         date stock        Date       Open       High        Low      Close  \\\n",
      "0  2020-06-05     A  2020-06-05  80.837502  82.937500  80.807503  82.875000   \n",
      "1  2020-06-03     A  2020-06-03  81.165001  81.550003  80.574997  81.279999   \n",
      "2  2020-05-26     A  2020-05-26  80.875000  81.059998  79.125000  79.182503   \n",
      "3  2020-05-22     A  2020-05-22  78.942497  79.807503  78.837502  79.722504   \n",
      "4  2020-05-22     A  2020-05-22  78.942497  79.807503  78.837502  79.722504   \n",
      "\n",
      "   Adj Close       Volume  Dividends  Stock Splits  \n",
      "0  80.843407  137250400.0        0.0           0.0  \n",
      "1  79.287506  104491200.0        0.0           0.0  \n",
      "2  77.241432  125522000.0        0.0           0.0  \n",
      "3  77.768188   81803200.0        0.0           0.0  \n",
      "4  77.768188   81803200.0        0.0           0.0  \n"
     ]
    }
   ],
   "source": [
    "print(\"news_data:\")\n",
    "print(news_data.head())\n",
    "\n",
    "print(\"\\ndataAAPL_reset:\")\n",
    "print(dataAAPL.head())\n",
    "\n",
    "print(\"\\nMerged Data:\")\n",
    "print(merged_data.head())\n"
   ]
  }
 ],
 "metadata": {
  "kernelspec": {
   "display_name": ".venv",
   "language": "python",
   "name": "python3"
  },
  "language_info": {
   "codemirror_mode": {
    "name": "ipython",
    "version": 3
   },
   "file_extension": ".py",
   "mimetype": "text/x-python",
   "name": "python",
   "nbconvert_exporter": "python",
   "pygments_lexer": "ipython3",
   "version": "3.12.5"
  }
 },
 "nbformat": 4,
 "nbformat_minor": 2
}
